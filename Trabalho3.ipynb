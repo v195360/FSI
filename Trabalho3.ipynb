{
  "nbformat": 4,
  "nbformat_minor": 0,
  "metadata": {
    "colab": {
      "name": "Trabalho3.ipynb",
      "provenance": [],
      "collapsed_sections": [],
      "toc_visible": true,
      "include_colab_link": true
    },
    "kernelspec": {
      "name": "python3",
      "display_name": "Python 3"
    }
  },
  "cells": [
    {
      "cell_type": "markdown",
      "metadata": {
        "id": "view-in-github",
        "colab_type": "text"
      },
      "source": [
        "<a href=\"https://colab.research.google.com/github/v195360/FSI/blob/master/Trabalho3.ipynb\" target=\"_parent\"><img src=\"https://colab.research.google.com/assets/colab-badge.svg\" alt=\"Open In Colab\"/></a>"
      ]
    },
    {
      "cell_type": "markdown",
      "metadata": {
        "id": "GQoQgtPJof-F",
        "colab_type": "text"
      },
      "source": [
        "Aprendizado supervisionado de classificação > rótulos\n"
      ]
    },
    {
      "cell_type": "code",
      "metadata": {
        "id": "ZGi5oFxn1ZSo",
        "colab_type": "code",
        "outputId": "d505056c-e23d-4444-8abe-22c8ea10eee2",
        "colab": {
          "base_uri": "https://localhost:8080/",
          "height": 343
        }
      },
      "source": [
        "#importando bibliotecas\n",
        "import pandas as pd\n",
        "import seaborn as sns\n",
        "import matplotlib.pyplot as plt\n",
        "\n",
        "marvelvsdc = pd.read_csv(\"db.csv\", encoding = \"ISO-8859-1\") #lendo CSV com pandas\n",
        "marvelvsdc.head()\n"
      ],
      "execution_count": 1,
      "outputs": [
        {
          "output_type": "stream",
          "text": [
            "/usr/local/lib/python3.6/dist-packages/statsmodels/tools/_testing.py:19: FutureWarning: pandas.util.testing is deprecated. Use the functions in the public API at pandas.testing instead.\n",
            "  import pandas.util.testing as tm\n"
          ],
          "name": "stderr"
        },
        {
          "output_type": "execute_result",
          "data": {
            "text/html": [
              "<div>\n",
              "<style scoped>\n",
              "    .dataframe tbody tr th:only-of-type {\n",
              "        vertical-align: middle;\n",
              "    }\n",
              "\n",
              "    .dataframe tbody tr th {\n",
              "        vertical-align: top;\n",
              "    }\n",
              "\n",
              "    .dataframe thead th {\n",
              "        text-align: right;\n",
              "    }\n",
              "</style>\n",
              "<table border=\"1\" class=\"dataframe\">\n",
              "  <thead>\n",
              "    <tr style=\"text-align: right;\">\n",
              "      <th></th>\n",
              "      <th>Unnamed: 0</th>\n",
              "      <th>Original Title</th>\n",
              "      <th>Company</th>\n",
              "      <th>Rate</th>\n",
              "      <th>Metascore</th>\n",
              "      <th>Minutes</th>\n",
              "      <th>Release</th>\n",
              "      <th>Budget</th>\n",
              "      <th>Opening Weekend USA</th>\n",
              "      <th>Gross USA</th>\n",
              "      <th>Gross Worldwide</th>\n",
              "    </tr>\n",
              "  </thead>\n",
              "  <tbody>\n",
              "    <tr>\n",
              "      <th>0</th>\n",
              "      <td>1</td>\n",
              "      <td>Iron Man</td>\n",
              "      <td>Marvel</td>\n",
              "      <td>7.9</td>\n",
              "      <td>79</td>\n",
              "      <td>126</td>\n",
              "      <td>2008</td>\n",
              "      <td>140000000</td>\n",
              "      <td>98618668</td>\n",
              "      <td>318604126</td>\n",
              "      <td>585366247</td>\n",
              "    </tr>\n",
              "    <tr>\n",
              "      <th>1</th>\n",
              "      <td>2</td>\n",
              "      <td>The Incredible Hulk</td>\n",
              "      <td>Marvel</td>\n",
              "      <td>6.7</td>\n",
              "      <td>61</td>\n",
              "      <td>112</td>\n",
              "      <td>2008</td>\n",
              "      <td>150000000</td>\n",
              "      <td>55414050</td>\n",
              "      <td>134806913</td>\n",
              "      <td>263427551</td>\n",
              "    </tr>\n",
              "    <tr>\n",
              "      <th>2</th>\n",
              "      <td>3</td>\n",
              "      <td>Iron Man 2</td>\n",
              "      <td>Marvel</td>\n",
              "      <td>7.0</td>\n",
              "      <td>57</td>\n",
              "      <td>124</td>\n",
              "      <td>2010</td>\n",
              "      <td>200000000</td>\n",
              "      <td>128122480</td>\n",
              "      <td>312433331</td>\n",
              "      <td>623933331</td>\n",
              "    </tr>\n",
              "    <tr>\n",
              "      <th>3</th>\n",
              "      <td>4</td>\n",
              "      <td>Thor</td>\n",
              "      <td>Marvel</td>\n",
              "      <td>7.0</td>\n",
              "      <td>57</td>\n",
              "      <td>115</td>\n",
              "      <td>2011</td>\n",
              "      <td>150000000</td>\n",
              "      <td>65723338</td>\n",
              "      <td>181030624</td>\n",
              "      <td>449326618</td>\n",
              "    </tr>\n",
              "    <tr>\n",
              "      <th>4</th>\n",
              "      <td>5</td>\n",
              "      <td>Captain America: The First Avenger</td>\n",
              "      <td>Marvel</td>\n",
              "      <td>6.9</td>\n",
              "      <td>66</td>\n",
              "      <td>124</td>\n",
              "      <td>2011</td>\n",
              "      <td>140000000</td>\n",
              "      <td>65058524</td>\n",
              "      <td>176654505</td>\n",
              "      <td>370569774</td>\n",
              "    </tr>\n",
              "  </tbody>\n",
              "</table>\n",
              "</div>"
            ],
            "text/plain": [
              "   Unnamed: 0                      Original Title  ...  Gross USA  Gross Worldwide\n",
              "0           1                            Iron Man  ...  318604126        585366247\n",
              "1           2                 The Incredible Hulk  ...  134806913        263427551\n",
              "2           3                          Iron Man 2  ...  312433331        623933331\n",
              "3           4                                Thor  ...  181030624        449326618\n",
              "4           5  Captain America: The First Avenger  ...  176654505        370569774\n",
              "\n",
              "[5 rows x 11 columns]"
            ]
          },
          "metadata": {
            "tags": []
          },
          "execution_count": 1
        }
      ]
    },
    {
      "cell_type": "code",
      "metadata": {
        "id": "kQmvB40BtFe3",
        "colab_type": "code",
        "colab": {
          "base_uri": "https://localhost:8080/",
          "height": 102
        },
        "outputId": "9fbf92c1-a1a6-4a83-d089-ed6531fe40b4"
      },
      "source": [
        "#describe da compania\n",
        "marvelvsdc.Company.describe()"
      ],
      "execution_count": 4,
      "outputs": [
        {
          "output_type": "execute_result",
          "data": {
            "text/plain": [
              "count         39\n",
              "unique         2\n",
              "top       Marvel\n",
              "freq          23\n",
              "Name: Company, dtype: object"
            ]
          },
          "metadata": {
            "tags": []
          },
          "execution_count": 4
        }
      ]
    },
    {
      "cell_type": "code",
      "metadata": {
        "id": "T4GvphO9o6xD",
        "colab_type": "code",
        "outputId": "c877b9c1-3cac-4c7e-84a1-e6bcb1e3fcea",
        "colab": {
          "base_uri": "https://localhost:8080/",
          "height": 34
        }
      },
      "source": [
        "#Valores possíveis de compania\n",
        "marvelvsdc.Company.unique()"
      ],
      "execution_count": 0,
      "outputs": [
        {
          "output_type": "execute_result",
          "data": {
            "text/plain": [
              "array(['Marvel', 'DC'], dtype=object)"
            ]
          },
          "metadata": {
            "tags": []
          },
          "execution_count": 31
        }
      ]
    },
    {
      "cell_type": "code",
      "metadata": {
        "id": "uBZpy_l3te4U",
        "colab_type": "code",
        "colab": {
          "base_uri": "https://localhost:8080/",
          "height": 296
        },
        "outputId": "98e98fc4-98f8-4ab4-bdcd-6c954d4cb9eb"
      },
      "source": [
        "#comparação de quantidade de filmes\n",
        "sns.countplot(x=\"Company\", data=marvelvsdc)"
      ],
      "execution_count": 5,
      "outputs": [
        {
          "output_type": "execute_result",
          "data": {
            "text/plain": [
              "<matplotlib.axes._subplots.AxesSubplot at 0x7f4374322ac8>"
            ]
          },
          "metadata": {
            "tags": []
          },
          "execution_count": 5
        },
        {
          "output_type": "display_data",
          "data": {
            "image/png": "[encoded data removed]",
            "text/plain": [
              "<Figure size 432x288 with 1 Axes>"
            ]
          },
          "metadata": {
            "tags": [],
            "needs_background": "light"
          }
        }
      ]
    },
    {
      "cell_type": "code",
      "metadata": {
        "id": "3CrLCIqjtv8J",
        "colab_type": "code",
        "colab": {
          "base_uri": "https://localhost:8080/",
          "height": 147
        },
        "outputId": "95168bbc-f6eb-44ad-c760-c65f3cdd54e3"
      },
      "source": [
        "#comparação de filmes por ano de lançamento\n",
        "sns.factorplot(x=\"Company\", col=\"Release\", kind=\"count\", data=marvelvsdc)"
      ],
      "execution_count": 14,
      "outputs": [
        {
          "output_type": "stream",
          "text": [
            "/usr/local/lib/python3.6/dist-packages/seaborn/categorical.py:3666: UserWarning: The `factorplot` function has been renamed to `catplot`. The original name will be removed in a future release. Please update your code. Note that the default `kind` in `factorplot` (`'point'`) has changed `'strip'` in `catplot`.\n",
            "  warnings.warn(msg)\n"
          ],
          "name": "stderr"
        },
        {
          "output_type": "execute_result",
          "data": {
            "text/plain": [
              "<seaborn.axisgrid.FacetGrid at 0x7f436f567cc0>"
            ]
          },
          "metadata": {
            "tags": []
          },
          "execution_count": 14
        },
        {
          "output_type": "display_data",
          "data": {
            "image/png": "[encoded data removed]",
            "text/plain": [
              "<Figure size 5400x360 with 15 Axes>"
            ]
          },
          "metadata": {
            "tags": [],
            "needs_background": "light"
          }
        }
      ]
    },
    {
      "cell_type": "markdown",
      "metadata": {
        "id": "nhdEncssQtB2",
        "colab_type": "text"
      },
      "source": [
        "# **Roteiro**\n",
        "\n",
        "\n",
        "Escolha uma classe de modelo importando do Scikit.\n",
        "\n",
        "Escolha os hiperparâmetros do modelo instanciando a classe escolhida.\n",
        "\n",
        "Organize os dados em uma feature matrix e um target array.\n",
        "\n",
        "Ajuste o modelo invocando o método fit().\n",
        "\n",
        "Aplique o modelo aos novos dados usando predict().\n",
        "\n",
        "\n",
        "\n"
      ]
    },
    {
      "cell_type": "markdown",
      "metadata": {
        "id": "8D4sYQi7XQum",
        "colab_type": "text"
      },
      "source": [
        "# **Naive Bayes**"
      ]
    },
    {
      "cell_type": "code",
      "metadata": {
        "id": "XBB_ykWCRJKC",
        "colab_type": "code",
        "colab": {}
      },
      "source": [
        "from sklearn.naive_bayes import GaussianNB # 1. Escolha do modelo.\n",
        "model_bayes = GaussianNB() #sem hiperparametro"
      ],
      "execution_count": 0,
      "outputs": []
    },
    {
      "cell_type": "code",
      "metadata": {
        "id": "NEjE46FHUxTl",
        "colab_type": "code",
        "outputId": "19e9031c-167b-473e-d6e3-2ba150e4785b",
        "colab": {
          "base_uri": "https://localhost:8080/",
          "height": 204
        }
      },
      "source": [
        "# 3.1 Feature Matrix\n",
        "X_marvelvsdc = marvelvsdc.loc[: ,  [\"Rate\",\t\"Metascore\", \"Minutes\",\t\"Release\", \"Budget\", \"Opening Weekend USA\"\t] ]\n",
        "X_marvelvsdc.head()"
      ],
      "execution_count": 0,
      "outputs": [
        {
          "output_type": "execute_result",
          "data": {
            "text/html": [
              "<div>\n",
              "<style scoped>\n",
              "    .dataframe tbody tr th:only-of-type {\n",
              "        vertical-align: middle;\n",
              "    }\n",
              "\n",
              "    .dataframe tbody tr th {\n",
              "        vertical-align: top;\n",
              "    }\n",
              "\n",
              "    .dataframe thead th {\n",
              "        text-align: right;\n",
              "    }\n",
              "</style>\n",
              "<table border=\"1\" class=\"dataframe\">\n",
              "  <thead>\n",
              "    <tr style=\"text-align: right;\">\n",
              "      <th></th>\n",
              "      <th>Rate</th>\n",
              "      <th>Metascore</th>\n",
              "      <th>Minutes</th>\n",
              "      <th>Release</th>\n",
              "      <th>Budget</th>\n",
              "      <th>Opening Weekend USA</th>\n",
              "    </tr>\n",
              "  </thead>\n",
              "  <tbody>\n",
              "    <tr>\n",
              "      <th>0</th>\n",
              "      <td>7.9</td>\n",
              "      <td>79</td>\n",
              "      <td>126</td>\n",
              "      <td>2008</td>\n",
              "      <td>140000000</td>\n",
              "      <td>98618668</td>\n",
              "    </tr>\n",
              "    <tr>\n",
              "      <th>1</th>\n",
              "      <td>6.7</td>\n",
              "      <td>61</td>\n",
              "      <td>112</td>\n",
              "      <td>2008</td>\n",
              "      <td>150000000</td>\n",
              "      <td>55414050</td>\n",
              "    </tr>\n",
              "    <tr>\n",
              "      <th>2</th>\n",
              "      <td>7.0</td>\n",
              "      <td>57</td>\n",
              "      <td>124</td>\n",
              "      <td>2010</td>\n",
              "      <td>200000000</td>\n",
              "      <td>128122480</td>\n",
              "    </tr>\n",
              "    <tr>\n",
              "      <th>3</th>\n",
              "      <td>7.0</td>\n",
              "      <td>57</td>\n",
              "      <td>115</td>\n",
              "      <td>2011</td>\n",
              "      <td>150000000</td>\n",
              "      <td>65723338</td>\n",
              "    </tr>\n",
              "    <tr>\n",
              "      <th>4</th>\n",
              "      <td>6.9</td>\n",
              "      <td>66</td>\n",
              "      <td>124</td>\n",
              "      <td>2011</td>\n",
              "      <td>140000000</td>\n",
              "      <td>65058524</td>\n",
              "    </tr>\n",
              "  </tbody>\n",
              "</table>\n",
              "</div>"
            ],
            "text/plain": [
              "   Rate  Metascore Minutes  Release      Budget  Opening Weekend USA\n",
              "0   7.9         79     126     2008   140000000             98618668\n",
              "1   6.7         61    112      2008   150000000             55414050\n",
              "2   7.0         57    124      2010   200000000            128122480\n",
              "3   7.0         57     115     2011  150000000              65723338\n",
              "4   6.9         66     124     2011   140000000             65058524"
            ]
          },
          "metadata": {
            "tags": []
          },
          "execution_count": 20
        }
      ]
    },
    {
      "cell_type": "code",
      "metadata": {
        "id": "xqiOjwYvVXwn",
        "colab_type": "code",
        "outputId": "c70cb9f1-e079-47be-9acc-4c7dae5956c2",
        "colab": {
          "base_uri": "https://localhost:8080/",
          "height": 119
        }
      },
      "source": [
        "# 3.2 Target Array\n",
        "Y_marvelvsdc = marvelvsdc.Company\n",
        "Y_marvelvsdc.head()\n"
      ],
      "execution_count": 0,
      "outputs": [
        {
          "output_type": "execute_result",
          "data": {
            "text/plain": [
              "0    Marvel\n",
              "1    Marvel\n",
              "2    Marvel\n",
              "3    Marvel\n",
              "4    Marvel\n",
              "Name: Company, dtype: object"
            ]
          },
          "metadata": {
            "tags": []
          },
          "execution_count": 21
        }
      ]
    },
    {
      "cell_type": "code",
      "metadata": {
        "id": "_qfCK4N5WS_C",
        "colab_type": "code",
        "colab": {}
      },
      "source": [
        "# 3.3 Separação do Banco de Dados\n",
        "from sklearn.model_selection import train_test_split\n",
        "Xtrain, Xtest, ytrain, ytest = train_test_split(X_marvelvsdc, Y_marvelvsdc, random_state=2020) #seed"
      ],
      "execution_count": 0,
      "outputs": []
    },
    {
      "cell_type": "code",
      "metadata": {
        "id": "7_LT1V7PWtQo",
        "colab_type": "code",
        "outputId": "7d79a874-2a77-493e-8717-1bd0626df358",
        "colab": {
          "base_uri": "https://localhost:8080/",
          "height": 34
        }
      },
      "source": [
        "# 4 Ajuste o modelo aos dados\n",
        "model_bayes.fit(Xtrain, ytrain)"
      ],
      "execution_count": 0,
      "outputs": [
        {
          "output_type": "execute_result",
          "data": {
            "text/plain": [
              "GaussianNB(priors=None, var_smoothing=1e-09)"
            ]
          },
          "metadata": {
            "tags": []
          },
          "execution_count": 23
        }
      ]
    },
    {
      "cell_type": "code",
      "metadata": {
        "id": "1KButICwWztq",
        "colab_type": "code",
        "colab": {}
      },
      "source": [
        "# 5 Predições em dados novos\n",
        "ymodel_bayes = model_bayes.predict(Xtest)"
      ],
      "execution_count": 0,
      "outputs": []
    },
    {
      "cell_type": "code",
      "metadata": {
        "id": "nCEiJc7DW6TD",
        "colab_type": "code",
        "outputId": "39900cb9-2756-4eb2-b8e5-0b52fdba973d",
        "colab": {
          "base_uri": "https://localhost:8080/",
          "height": 51
        }
      },
      "source": [
        "ymodel_bayes"
      ],
      "execution_count": 0,
      "outputs": [
        {
          "output_type": "execute_result",
          "data": {
            "text/plain": [
              "array(['Marvel', 'DC', 'Marvel', 'Marvel', 'Marvel', 'Marvel', 'DC',\n",
              "       'Marvel', 'Marvel', 'Marvel'], dtype='<U6')"
            ]
          },
          "metadata": {
            "tags": []
          },
          "execution_count": 25
        }
      ]
    },
    {
      "cell_type": "code",
      "metadata": {
        "id": "MgQ-hYLpwCRd",
        "colab_type": "code",
        "outputId": "b6e74b85-d78f-4e44-f443-50add8b0edfe",
        "colab": {
          "base_uri": "https://localhost:8080/",
          "height": 204
        }
      },
      "source": [
        "ytest"
      ],
      "execution_count": 0,
      "outputs": [
        {
          "output_type": "execute_result",
          "data": {
            "text/plain": [
              "13    Marvel\n",
              "28        DC\n",
              "21    Marvel\n",
              "2     Marvel\n",
              "15    Marvel\n",
              "23        DC\n",
              "38        DC\n",
              "17    Marvel\n",
              "22    Marvel\n",
              "12    Marvel\n",
              "Name: Company, dtype: object"
            ]
          },
          "metadata": {
            "tags": []
          },
          "execution_count": 27
        }
      ]
    },
    {
      "cell_type": "code",
      "metadata": {
        "id": "wgUZgWkWXAdb",
        "colab_type": "code",
        "outputId": "b9792c3c-6533-41f4-dccd-f41354e99b95",
        "colab": {
          "base_uri": "https://localhost:8080/",
          "height": 34
        }
      },
      "source": [
        "#Acuracia\n",
        "from sklearn.metrics import accuracy_score\n",
        "accuracy_score(ytest, y_model_bayes)"
      ],
      "execution_count": 0,
      "outputs": [
        {
          "output_type": "execute_result",
          "data": {
            "text/plain": [
              "0.9"
            ]
          },
          "metadata": {
            "tags": []
          },
          "execution_count": 18
        }
      ]
    },
    {
      "cell_type": "markdown",
      "metadata": {
        "id": "oxbUwLctXWic",
        "colab_type": "text"
      },
      "source": [
        "# Árvore de Decisão"
      ]
    },
    {
      "cell_type": "code",
      "metadata": {
        "id": "wFiRsns6Xdd1",
        "colab_type": "code",
        "outputId": "4ff2e584-1b2e-4c31-8472-fb694683ad49",
        "colab": {
          "base_uri": "https://localhost:8080/",
          "height": 119
        }
      },
      "source": [
        "from sklearn.tree import DecisionTreeClassifier  \n",
        "model_decisiont = DecisionTreeClassifier()      \n",
        "                                                    \n",
        "model_decisiont.fit(Xtrain, ytrain)   "
      ],
      "execution_count": 0,
      "outputs": [
        {
          "output_type": "execute_result",
          "data": {
            "text/plain": [
              "DecisionTreeClassifier(ccp_alpha=0.0, class_weight=None, criterion='gini',\n",
              "                       max_depth=None, max_features=None, max_leaf_nodes=None,\n",
              "                       min_impurity_decrease=0.0, min_impurity_split=None,\n",
              "                       min_samples_leaf=1, min_samples_split=2,\n",
              "                       min_weight_fraction_leaf=0.0, presort='deprecated',\n",
              "                       random_state=None, splitter='best')"
            ]
          },
          "metadata": {
            "tags": []
          },
          "execution_count": 28
        }
      ]
    },
    {
      "cell_type": "code",
      "metadata": {
        "id": "AQAeVnHGX18B",
        "colab_type": "code",
        "colab": {}
      },
      "source": [
        "# 5 Predições em dados novos\n",
        "ymodel_decisiont = model_decisiont.predict(Xtest)"
      ],
      "execution_count": 0,
      "outputs": []
    },
    {
      "cell_type": "code",
      "metadata": {
        "id": "QHWMfCJxzeoI",
        "colab_type": "code",
        "outputId": "3c6ba2bd-27b2-46c3-b6ed-7c3ae3fad7e0",
        "colab": {
          "base_uri": "https://localhost:8080/",
          "height": 51
        }
      },
      "source": [
        "ymodel_decisiont"
      ],
      "execution_count": 0,
      "outputs": [
        {
          "output_type": "execute_result",
          "data": {
            "text/plain": [
              "array(['Marvel', 'Marvel', 'DC', 'Marvel', 'Marvel', 'Marvel', 'Marvel',\n",
              "       'DC', 'Marvel', 'Marvel'], dtype=object)"
            ]
          },
          "metadata": {
            "tags": []
          },
          "execution_count": 30
        }
      ]
    },
    {
      "cell_type": "code",
      "metadata": {
        "id": "VTrm6Ay5z1_u",
        "colab_type": "code",
        "outputId": "97d9d46c-c3f3-4922-ae4d-567f9749f3fc",
        "colab": {
          "base_uri": "https://localhost:8080/",
          "height": 204
        }
      },
      "source": [
        "ytest"
      ],
      "execution_count": 0,
      "outputs": [
        {
          "output_type": "execute_result",
          "data": {
            "text/plain": [
              "13    Marvel\n",
              "28        DC\n",
              "21    Marvel\n",
              "2     Marvel\n",
              "15    Marvel\n",
              "23        DC\n",
              "38        DC\n",
              "17    Marvel\n",
              "22    Marvel\n",
              "12    Marvel\n",
              "Name: Company, dtype: object"
            ]
          },
          "metadata": {
            "tags": []
          },
          "execution_count": 31
        }
      ]
    },
    {
      "cell_type": "code",
      "metadata": {
        "id": "4eY-H8jJYBHQ",
        "colab_type": "code",
        "outputId": "f7c00eea-0b73-41a5-8124-d398939c8358",
        "colab": {
          "base_uri": "https://localhost:8080/",
          "height": 34
        }
      },
      "source": [
        "#Acuracia\n",
        "accuracy_score(ytest, y_model_decisiont)"
      ],
      "execution_count": 0,
      "outputs": [
        {
          "output_type": "execute_result",
          "data": {
            "text/plain": [
              "0.5"
            ]
          },
          "metadata": {
            "tags": []
          },
          "execution_count": 21
        }
      ]
    },
    {
      "cell_type": "markdown",
      "metadata": {
        "id": "1xDpxcFlYGxB",
        "colab_type": "text"
      },
      "source": [
        "# **Matriz de Confusão**"
      ]
    },
    {
      "cell_type": "markdown",
      "metadata": {
        "id": "RKUUFOqJYU8U",
        "colab_type": "text"
      },
      "source": [
        "# Nayve Bayes"
      ]
    },
    {
      "cell_type": "code",
      "metadata": {
        "id": "Gvk7LdUnYxds",
        "colab_type": "code",
        "colab": {}
      },
      "source": [
        "from sklearn.metrics import confusion_matrix\n",
        "\n",
        "mat_bayes = confusion_matrix(ytest, y_model_bayes) "
      ],
      "execution_count": 0,
      "outputs": []
    },
    {
      "cell_type": "code",
      "metadata": {
        "id": "vRS7UvukZBJ4",
        "colab_type": "code",
        "outputId": "7f130b10-78db-447b-d41a-23e14eb210af",
        "colab": {
          "base_uri": "https://localhost:8080/",
          "height": 300
        }
      },
      "source": [
        "\n",
        "sns.heatmap(mat_bayes, square=True, annot = True)\n",
        "plt.xlabel('Preditos')\n",
        "plt.ylabel('Reais')"
      ],
      "execution_count": 0,
      "outputs": [
        {
          "output_type": "execute_result",
          "data": {
            "text/plain": [
              "Text(83.40000000000006, 0.5, 'Reais')"
            ]
          },
          "metadata": {
            "tags": []
          },
          "execution_count": 23
        },
        {
          "output_type": "display_data",
          "data": {
            "image/png": "[encoded data removed]",
            "text/plain": [
              "<Figure size 432x288 with 2 Axes>"
            ]
          },
          "metadata": {
            "tags": [],
            "needs_background": "light"
          }
        }
      ]
    },
    {
      "cell_type": "markdown",
      "metadata": {
        "id": "k8lHCY_rZSnD",
        "colab_type": "text"
      },
      "source": [
        "# Decision Tree"
      ]
    },
    {
      "cell_type": "code",
      "metadata": {
        "id": "sqonHu3yZRUN",
        "colab_type": "code",
        "outputId": "5c487ca1-22fb-4c18-ae4e-863a7b613b0e",
        "colab": {
          "base_uri": "https://localhost:8080/",
          "height": 300
        }
      },
      "source": [
        "mat_decisiont = confusion_matrix(ytest, y_model_decisiont)\n",
        "sns.heatmap(mat_decisiont, square=True, annot = True)\n",
        "plt.xlabel('Preditos')\n",
        "plt.ylabel('Reais')"
      ],
      "execution_count": 0,
      "outputs": [
        {
          "output_type": "execute_result",
          "data": {
            "text/plain": [
              "Text(83.40000000000006, 0.5, 'Reais')"
            ]
          },
          "metadata": {
            "tags": []
          },
          "execution_count": 24
        },
        {
          "output_type": "display_data",
          "data": {
            "image/png": "[encoded data removed]",
            "text/plain": [
              "<Figure size 432x288 with 2 Axes>"
            ]
          },
          "metadata": {
            "tags": [],
            "needs_background": "light"
          }
        }
      ]
    },
    {
      "cell_type": "markdown",
      "metadata": {
        "id": "5FXGWio9ZrqA",
        "colab_type": "text"
      },
      "source": [
        "# Cross-Validation"
      ]
    },
    {
      "cell_type": "code",
      "metadata": {
        "id": "l2oiu6peZlvJ",
        "colab_type": "code",
        "outputId": "d9b53b70-153c-446c-edd5-947765af5177",
        "colab": {
          "base_uri": "https://localhost:8080/",
          "height": 34
        }
      },
      "source": [
        "from sklearn.model_selection import cross_val_score\n",
        "\n",
        "from sklearn.neighbors import KNeighborsClassifier  #rouba a classificação de quem está perto\n",
        "model_neighbors = KNeighborsClassifier(n_neighbors=1)\n",
        "cross_val_score(model_neighbors, X_marvelvsdc, Y_marvelvsdc, cv = 5)"
      ],
      "execution_count": 0,
      "outputs": [
        {
          "output_type": "execute_result",
          "data": {
            "text/plain": [
              "array([0.625     , 0.75      , 0.5       , 0.75      , 0.57142857])"
            ]
          },
          "metadata": {
            "tags": []
          },
          "execution_count": 25
        }
      ]
    },
    {
      "cell_type": "code",
      "metadata": {
        "id": "pUWbtXPMaFen",
        "colab_type": "code",
        "outputId": "e760206c-da10-4691-eef0-7863509bf208",
        "colab": {
          "base_uri": "https://localhost:8080/",
          "height": 34
        }
      },
      "source": [
        "model_bayes_cv = GaussianNB()                 # 2. Escolha dos hiperparâmetros e intanciação.\n",
        "cross_val_score(model_bayes_cv, X_marvelvsdc, Y_marvelvsdc, cv = 5)"
      ],
      "execution_count": 0,
      "outputs": [
        {
          "output_type": "execute_result",
          "data": {
            "text/plain": [
              "array([0.5       , 0.5       , 0.5       , 0.5       , 0.85714286])"
            ]
          },
          "metadata": {
            "tags": []
          },
          "execution_count": 26
        }
      ]
    },
    {
      "cell_type": "markdown",
      "metadata": {
        "id": "sPHaCMEeaaTO",
        "colab_type": "text"
      },
      "source": [
        "## Leave one Out"
      ]
    },
    {
      "cell_type": "code",
      "metadata": {
        "id": "i9wlN2CaaMxO",
        "colab_type": "code",
        "colab": {}
      },
      "source": [
        "from sklearn.model_selection import LeaveOneOut\n",
        "score = cross_val_score(model_bayes_cv, X_marvelvsdc, Y_marvelvsdc, cv=LeaveOneOut())"
      ],
      "execution_count": 0,
      "outputs": []
    },
    {
      "cell_type": "code",
      "metadata": {
        "id": "08DxbrPjaUi1",
        "colab_type": "code",
        "outputId": "d6181bb2-38e6-4709-b790-baab38804306",
        "colab": {
          "base_uri": "https://localhost:8080/",
          "height": 68
        }
      },
      "source": [
        "score"
      ],
      "execution_count": 0,
      "outputs": [
        {
          "output_type": "execute_result",
          "data": {
            "text/plain": [
              "array([0., 0., 1., 0., 0., 1., 1., 0., 0., 0., 1., 0., 1., 0., 1., 1., 1.,\n",
              "       1., 1., 0., 1., 1., 0., 1., 1., 0., 0., 1., 1., 0., 0., 0., 0., 0.,\n",
              "       0., 0., 1., 1., 1.])"
            ]
          },
          "metadata": {
            "tags": []
          },
          "execution_count": 29
        }
      ]
    },
    {
      "cell_type": "code",
      "metadata": {
        "id": "n8aatldJaodA",
        "colab_type": "code",
        "outputId": "ed4d58e5-08a9-4851-df4e-561cbef896bd",
        "colab": {
          "base_uri": "https://localhost:8080/",
          "height": 34
        }
      },
      "source": [
        "score.mean()"
      ],
      "execution_count": 0,
      "outputs": [
        {
          "output_type": "execute_result",
          "data": {
            "text/plain": [
              "0.48717948717948717"
            ]
          },
          "metadata": {
            "tags": []
          },
          "execution_count": 30
        }
      ]
    }
  ]
}